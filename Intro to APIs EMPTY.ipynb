{
 "cells": [
  {
   "cell_type": "markdown",
   "id": "7196054f",
   "metadata": {},
   "source": [
    "# Working with APIs"
   ]
  },
  {
   "cell_type": "markdown",
   "id": "0547b71e",
   "metadata": {},
   "source": [
    "API stands for Application programming interface<br>\n",
    "APIs are a way for applications to talk to eachother<br>\n",
    "In python we use the requests package to handle the connection<br>\n",
    "<small><strong>Note: It is requests with an s not request(this is a different package)</strong></small><br>\n",
    "Most API's communicate with data in the form of JSON<br>\n",
    "JSON stands for JavaScript Object Notation"
   ]
  },
  {
   "cell_type": "code",
   "execution_count": 2,
   "id": "4db9d154",
   "metadata": {},
   "outputs": [],
   "source": [
    "#import the packages we need:\n",
    "import requests, json\n"
   ]
  },
  {
   "cell_type": "markdown",
   "id": "e8c2ce51",
   "metadata": {},
   "source": [
    "We will be connecting to the Ergast F1 Racer API today:\n",
    "http://ergast.com/mrd/\n",
    "\n",
    "to view JSON data nicely in the Chrome browser install the extension JSONview"
   ]
  },
  {
   "cell_type": "code",
   "execution_count": 2,
   "id": "52c440c6",
   "metadata": {},
   "outputs": [],
   "source": [
    "url = \"http://ergast.com/api/f1/2008/5/driverStandings.json\"\n"
   ]
  },
  {
   "cell_type": "code",
   "execution_count": 7,
   "id": "f60c1b4a",
   "metadata": {},
   "outputs": [
    {
     "name": "stdout",
     "output_type": "stream",
     "text": [
      "<Response [200]>\n"
     ]
    }
   ],
   "source": [
    "response = requests.get(url)\n",
    "print(response)"
   ]
  },
  {
   "cell_type": "code",
   "execution_count": 27,
   "id": "7b63a204",
   "metadata": {},
   "outputs": [
    {
     "name": "stdout",
     "output_type": "stream",
     "text": [
      "['Kimi Räikkönen drove a Ferrari', 'Felipe Massa drove a Ferrari', 'Lewis Hamilton drove a McLaren', 'Robert Kubica drove a BMW Sauber', 'Nick Heidfeld drove a BMW Sauber', 'Heikki Kovalainen drove a McLaren', 'Mark Webber drove a Red Bull', 'Fernando Alonso drove a Renault', 'Jarno Trulli drove a Toyota', 'Nico Rosberg drove a Williams', 'Kazuki Nakajima drove a Williams', 'Jenson Button drove a Honda', 'Sébastien Bourdais drove a Toro Rosso', 'David Coulthard drove a Red Bull', 'Timo Glock drove a Toyota', 'Giancarlo Fisichella drove a Force India', 'Rubens Barrichello drove a Honda', 'Nelson Piquet Jr. drove a Renault', 'Takuma Sato drove a Super Aguri', 'Anthony Davidson drove a Super Aguri', 'Adrian Sutil drove a Force India', 'Sebastian Vettel drove a Toro Rosso']\n"
     ]
    }
   ],
   "source": [
    "#response object\n",
    "if response.ok:\n",
    "    data = response.json()\n",
    "#     print(data)\n",
    "    drivers = data['MRData']['StandingsTable']['StandingsLists'][0]['DriverStandings']\n",
    "#     print(drivers)\n",
    "    my_list = []\n",
    "    for info in drivers:\n",
    "        first_name = info['Driver']['givenName']\n",
    "        last_name = info['Driver']['familyName']\n",
    "        car = info['Constructors'][0]['name']\n",
    "        my_list.append(f'{first_name} {last_name} drove a {car}')\n",
    "    print(my_list)"
   ]
  },
  {
   "cell_type": "code",
   "execution_count": 3,
   "id": "c6d1fdaf",
   "metadata": {},
   "outputs": [],
   "source": [
    "#check and make sure we got a successful response from the API\n"
   ]
  },
  {
   "cell_type": "code",
   "execution_count": 4,
   "id": "ed4d3256",
   "metadata": {},
   "outputs": [],
   "source": [
    "#view the response as a JSON\n"
   ]
  },
  {
   "cell_type": "code",
   "execution_count": null,
   "id": "92e6cd2c",
   "metadata": {},
   "outputs": [],
   "source": []
  },
  {
   "cell_type": "code",
   "execution_count": 5,
   "id": "f074dfcf",
   "metadata": {},
   "outputs": [],
   "source": [
    "# We only want the Driver Standings\n"
   ]
  },
  {
   "cell_type": "code",
   "execution_count": null,
   "id": "be46a950",
   "metadata": {},
   "outputs": [],
   "source": []
  },
  {
   "cell_type": "code",
   "execution_count": null,
   "id": "3740c752",
   "metadata": {},
   "outputs": [],
   "source": []
  },
  {
   "cell_type": "markdown",
   "id": "6d546014",
   "metadata": {},
   "source": [
    "# <strong>Homework</strong>\n",
    "check out this Pokemon API https://pokeapi.co/\n",
    "Use the requests package to connect to this API and get and store data for 5 different pokemon.\n",
    "Get the pokemons: name, atleast one ability's name, base_experience, and the URL for its sprite (an image that shows up on screen) for the 'front_shiny', attack base_state, hp base_stat, defense base_stat"
   ]
  },
  {
   "cell_type": "code",
   "execution_count": 132,
   "id": "5a9081e3",
   "metadata": {},
   "outputs": [
    {
     "name": "stdout",
     "output_type": "stream",
     "text": [
      "You have chosen the following Pokemon:\n",
      "Name: charmander\n",
      "Ability 1: blaze\n",
      "Base XP: 62\n",
      "Front Shiny URL: https://raw.githubusercontent.com/PokeAPI/sprites/master/sprites/pokemon/shiny/4.png\n",
      "Base Attack Stat: 52\n",
      "Base HP Stat: 39\n",
      "Base Defense Stat: 43\n",
      "\n",
      "You have chosen the following Pokemon:\n",
      "Name: squirtle\n",
      "Ability 1: torrent\n",
      "Base XP: 63\n",
      "Front Shiny URL: https://raw.githubusercontent.com/PokeAPI/sprites/master/sprites/pokemon/shiny/7.png\n",
      "Base Attack Stat: 48\n",
      "Base HP Stat: 44\n",
      "Base Defense Stat: 65\n",
      "\n",
      "You have chosen the following Pokemon:\n",
      "Name: blaziken\n",
      "Ability 1: blaze\n",
      "Base XP: 265\n",
      "Front Shiny URL: https://raw.githubusercontent.com/PokeAPI/sprites/master/sprites/pokemon/shiny/257.png\n",
      "Base Attack Stat: 120\n",
      "Base HP Stat: 80\n",
      "Base Defense Stat: 70\n",
      "\n",
      "You have chosen the following Pokemon:\n",
      "Name: mudkip\n",
      "Ability 1: torrent\n",
      "Base XP: 62\n",
      "Front Shiny URL: https://raw.githubusercontent.com/PokeAPI/sprites/master/sprites/pokemon/shiny/258.png\n",
      "Base Attack Stat: 70\n",
      "Base HP Stat: 50\n",
      "Base Defense Stat: 50\n",
      "\n",
      "You have chosen the following Pokemon:\n",
      "Name: bulbasaur\n",
      "Ability 1: overgrow\n",
      "Base XP: 64\n",
      "Front Shiny URL: https://raw.githubusercontent.com/PokeAPI/sprites/master/sprites/pokemon/shiny/1.png\n",
      "Base Attack Stat: 49\n",
      "Base HP Stat: 45\n",
      "Base Defense Stat: 49\n",
      "\n"
     ]
    }
   ],
   "source": [
    "def get_poke_info(pokemon):\n",
    "    url = f'https://pokeapi.co/api/v2/pokemon/{pokemon}'\n",
    "    response = requests.get(url)\n",
    "    data = response.json()\n",
    "    for i in data:\n",
    "        name = data['name']\n",
    "        ability1 = data['abilities'][0]['ability']['name']\n",
    "        baseXP = data['base_experience']\n",
    "        frontShiny = data['sprites']['front_shiny']\n",
    "        atkStat = data['stats'][1]['base_stat']\n",
    "        hpStat = data['stats'][0]['base_stat']\n",
    "        defStat = data['stats'][2]['base_stat']\n",
    "    print(f'You have chosen the following Pokemon:\\nName: {name}\\nAbility 1: {ability1}\\nBase XP: {baseXP}\\nFront Shiny URL: {frontShiny}\\nBase Attack Stat: {atkStat}\\nBase HP Stat: {hpStat}\\nBase Defense Stat: {defStat}\\n')\n",
    "\n",
    "get_poke_info('charmander')\n",
    "get_poke_info('squirtle')\n",
    "get_poke_info('blaziken')\n",
    "get_poke_info('mudkip')\n",
    "get_poke_info('bulbasaur')"
   ]
  }
 ],
 "metadata": {
  "kernelspec": {
   "display_name": "Python 3 (ipykernel)",
   "language": "python",
   "name": "python3"
  },
  "language_info": {
   "codemirror_mode": {
    "name": "ipython",
    "version": 3
   },
   "file_extension": ".py",
   "mimetype": "text/x-python",
   "name": "python",
   "nbconvert_exporter": "python",
   "pygments_lexer": "ipython3",
   "version": "3.9.12"
  }
 },
 "nbformat": 4,
 "nbformat_minor": 5
}
